{
 "cells": [
  {
   "cell_type": "code",
   "execution_count": 6,
   "metadata": {},
   "outputs": [],
   "source": [
    "import numpy as np\n",
    "import pandas as pd\n",
    "from bokeh.plotting import figure, ColumnDataSource\n",
    "from bokeh.models import CategoricalColorMapper, HoverTool, Slider, Select\n",
    "from bokeh.layouts import row, column, widgetbox\n",
    "from bokeh.io import curdoc\n",
    "\n",
    "# Read in the Datasets\n",
    "df_players = pd.read_csv('Data/Players.csv')\n",
    "df_stats = pd.read_csv('Data/Seasons_Stats.csv')\n"
   ]
  },
  {
   "cell_type": "code",
   "execution_count": 7,
   "metadata": {},
   "outputs": [],
   "source": [
    "df_stats = df_stats[['Year', 'Player', 'Pos', 'Age', 'Tm', 'G', 'TS%', 'FG', 'FGA', 'FG%', '3P', '3PA', \n",
    "        '3P%', '2P', '2PA', '2P%', 'eFG%', 'FT', 'FTA', 'FT%', 'TRB', 'AST', 'STL', 'BLK', \n",
    "        'TOV', 'PTS']]"
   ]
  },
  {
   "cell_type": "code",
   "execution_count": 11,
   "metadata": {},
   "outputs": [
    {
     "data": {
      "text/html": [
       "<div>\n",
       "<style>\n",
       "    .dataframe thead tr:only-child th {\n",
       "        text-align: right;\n",
       "    }\n",
       "\n",
       "    .dataframe thead th {\n",
       "        text-align: left;\n",
       "    }\n",
       "\n",
       "    .dataframe tbody tr th {\n",
       "        vertical-align: top;\n",
       "    }\n",
       "</style>\n",
       "<table border=\"1\" class=\"dataframe\">\n",
       "  <thead>\n",
       "    <tr style=\"text-align: right;\">\n",
       "      <th></th>\n",
       "      <th>Year</th>\n",
       "      <th>Player</th>\n",
       "      <th>Pos</th>\n",
       "      <th>Age</th>\n",
       "      <th>Tm</th>\n",
       "      <th>G</th>\n",
       "      <th>TS%</th>\n",
       "      <th>FG</th>\n",
       "      <th>FGA</th>\n",
       "      <th>FG%</th>\n",
       "      <th>...</th>\n",
       "      <th>eFG%</th>\n",
       "      <th>FT</th>\n",
       "      <th>FTA</th>\n",
       "      <th>FT%</th>\n",
       "      <th>AST</th>\n",
       "      <th>STL</th>\n",
       "      <th>BLK</th>\n",
       "      <th>TOV</th>\n",
       "      <th>PTS</th>\n",
       "      <th>RB</th>\n",
       "    </tr>\n",
       "  </thead>\n",
       "  <tbody>\n",
       "    <tr>\n",
       "      <th>5727</th>\n",
       "      <td>1980</td>\n",
       "      <td>Kareem Abdul-Jabbar*</td>\n",
       "      <td>C</td>\n",
       "      <td>32.0</td>\n",
       "      <td>LAL</td>\n",
       "      <td>82.0</td>\n",
       "      <td>0.639</td>\n",
       "      <td>835.0</td>\n",
       "      <td>1383.0</td>\n",
       "      <td>0.604</td>\n",
       "      <td>...</td>\n",
       "      <td>0.604</td>\n",
       "      <td>364.0</td>\n",
       "      <td>476.0</td>\n",
       "      <td>0.765</td>\n",
       "      <td>371.0</td>\n",
       "      <td>81.0</td>\n",
       "      <td>280.0</td>\n",
       "      <td>297.0</td>\n",
       "      <td>2034.0</td>\n",
       "      <td>886.0</td>\n",
       "    </tr>\n",
       "    <tr>\n",
       "      <th>5728</th>\n",
       "      <td>1980</td>\n",
       "      <td>Tom Abernethy</td>\n",
       "      <td>PF</td>\n",
       "      <td>25.0</td>\n",
       "      <td>GSW</td>\n",
       "      <td>67.0</td>\n",
       "      <td>0.511</td>\n",
       "      <td>153.0</td>\n",
       "      <td>318.0</td>\n",
       "      <td>0.481</td>\n",
       "      <td>...</td>\n",
       "      <td>0.481</td>\n",
       "      <td>56.0</td>\n",
       "      <td>82.0</td>\n",
       "      <td>0.683</td>\n",
       "      <td>87.0</td>\n",
       "      <td>35.0</td>\n",
       "      <td>12.0</td>\n",
       "      <td>39.0</td>\n",
       "      <td>362.0</td>\n",
       "      <td>191.0</td>\n",
       "    </tr>\n",
       "  </tbody>\n",
       "</table>\n",
       "<p>2 rows × 26 columns</p>\n",
       "</div>"
      ],
      "text/plain": [
       "      Year                Player Pos   Age   Tm     G    TS%     FG     FGA  \\\n",
       "5727  1980  Kareem Abdul-Jabbar*   C  32.0  LAL  82.0  0.639  835.0  1383.0   \n",
       "5728  1980         Tom Abernethy  PF  25.0  GSW  67.0  0.511  153.0   318.0   \n",
       "\n",
       "        FG%  ...     eFG%     FT    FTA    FT%    AST   STL    BLK    TOV  \\\n",
       "5727  0.604  ...    0.604  364.0  476.0  0.765  371.0  81.0  280.0  297.0   \n",
       "5728  0.481  ...    0.481   56.0   82.0  0.683   87.0  35.0   12.0   39.0   \n",
       "\n",
       "         PTS     RB  \n",
       "5727  2034.0  886.0  \n",
       "5728   362.0  191.0  \n",
       "\n",
       "[2 rows x 26 columns]"
      ]
     },
     "execution_count": 11,
     "metadata": {},
     "output_type": "execute_result"
    }
   ],
   "source": [
    "df_stats.head(2)"
   ]
  },
  {
   "cell_type": "code",
   "execution_count": 9,
   "metadata": {},
   "outputs": [],
   "source": [
    "df_stats = df_stats.dropna()\n",
    "df_stats.Year = df_stats.Year.astype(int)\n",
    "df_stats['RB'] = df_stats['TRB']\n",
    "del df_stats['TRB']"
   ]
  },
  {
   "cell_type": "code",
   "execution_count": 12,
   "metadata": {},
   "outputs": [
    {
     "data": {
      "text/html": [
       "<div>\n",
       "<style>\n",
       "    .dataframe thead tr:only-child th {\n",
       "        text-align: right;\n",
       "    }\n",
       "\n",
       "    .dataframe thead th {\n",
       "        text-align: left;\n",
       "    }\n",
       "\n",
       "    .dataframe tbody tr th {\n",
       "        vertical-align: top;\n",
       "    }\n",
       "</style>\n",
       "<table border=\"1\" class=\"dataframe\">\n",
       "  <thead>\n",
       "    <tr style=\"text-align: right;\">\n",
       "      <th></th>\n",
       "      <th>Year</th>\n",
       "      <th>Player</th>\n",
       "      <th>Pos</th>\n",
       "      <th>Age</th>\n",
       "      <th>Tm</th>\n",
       "      <th>G</th>\n",
       "      <th>TS%</th>\n",
       "      <th>FG</th>\n",
       "      <th>FGA</th>\n",
       "      <th>FG%</th>\n",
       "      <th>...</th>\n",
       "      <th>eFG%</th>\n",
       "      <th>FT</th>\n",
       "      <th>FTA</th>\n",
       "      <th>FT%</th>\n",
       "      <th>AST</th>\n",
       "      <th>STL</th>\n",
       "      <th>BLK</th>\n",
       "      <th>TOV</th>\n",
       "      <th>PTS</th>\n",
       "      <th>RB</th>\n",
       "    </tr>\n",
       "  </thead>\n",
       "  <tbody>\n",
       "    <tr>\n",
       "      <th>5727</th>\n",
       "      <td>1980</td>\n",
       "      <td>Kareem Abdul-Jabbar*</td>\n",
       "      <td>C</td>\n",
       "      <td>32.0</td>\n",
       "      <td>LAL</td>\n",
       "      <td>82.0</td>\n",
       "      <td>0.639</td>\n",
       "      <td>835.0</td>\n",
       "      <td>1383.0</td>\n",
       "      <td>0.604</td>\n",
       "      <td>...</td>\n",
       "      <td>0.604</td>\n",
       "      <td>364.0</td>\n",
       "      <td>476.0</td>\n",
       "      <td>0.765</td>\n",
       "      <td>371.0</td>\n",
       "      <td>81.0</td>\n",
       "      <td>280.0</td>\n",
       "      <td>297.0</td>\n",
       "      <td>2034.0</td>\n",
       "      <td>886.0</td>\n",
       "    </tr>\n",
       "    <tr>\n",
       "      <th>5728</th>\n",
       "      <td>1980</td>\n",
       "      <td>Tom Abernethy</td>\n",
       "      <td>PF</td>\n",
       "      <td>25.0</td>\n",
       "      <td>GSW</td>\n",
       "      <td>67.0</td>\n",
       "      <td>0.511</td>\n",
       "      <td>153.0</td>\n",
       "      <td>318.0</td>\n",
       "      <td>0.481</td>\n",
       "      <td>...</td>\n",
       "      <td>0.481</td>\n",
       "      <td>56.0</td>\n",
       "      <td>82.0</td>\n",
       "      <td>0.683</td>\n",
       "      <td>87.0</td>\n",
       "      <td>35.0</td>\n",
       "      <td>12.0</td>\n",
       "      <td>39.0</td>\n",
       "      <td>362.0</td>\n",
       "      <td>191.0</td>\n",
       "    </tr>\n",
       "  </tbody>\n",
       "</table>\n",
       "<p>2 rows × 26 columns</p>\n",
       "</div>"
      ],
      "text/plain": [
       "      Year                Player Pos   Age   Tm     G    TS%     FG     FGA  \\\n",
       "5727  1980  Kareem Abdul-Jabbar*   C  32.0  LAL  82.0  0.639  835.0  1383.0   \n",
       "5728  1980         Tom Abernethy  PF  25.0  GSW  67.0  0.511  153.0   318.0   \n",
       "\n",
       "        FG%  ...     eFG%     FT    FTA    FT%    AST   STL    BLK    TOV  \\\n",
       "5727  0.604  ...    0.604  364.0  476.0  0.765  371.0  81.0  280.0  297.0   \n",
       "5728  0.481  ...    0.481   56.0   82.0  0.683   87.0  35.0   12.0   39.0   \n",
       "\n",
       "         PTS     RB  \n",
       "5727  2034.0  886.0  \n",
       "5728   362.0  191.0  \n",
       "\n",
       "[2 rows x 26 columns]"
      ]
     },
     "execution_count": 12,
     "metadata": {},
     "output_type": "execute_result"
    }
   ],
   "source": [
    "df_stats.head(2)"
   ]
  },
  {
   "cell_type": "code",
   "execution_count": 13,
   "metadata": {},
   "outputs": [],
   "source": [
    "def fan_pts(pts, reb, ast, blk, st, to):\n",
    "    \"Returns a one statistic summary of a players performance\"\n",
    "    return (1*pts + 1.2*reb + 1.5*ast + 3*blk + 3*st - 1*to)"
   ]
  },
  {
   "cell_type": "code",
   "execution_count": 14,
   "metadata": {},
   "outputs": [],
   "source": [
    "pd.options.display.float_format = '{:,.2f}'.format"
   ]
  },
  {
   "cell_type": "code",
   "execution_count": 15,
   "metadata": {},
   "outputs": [],
   "source": [
    "df_stats['PTS_avg'] = df_stats['PTS'] / df_stats['G']\n",
    "df_stats['AST_avg'] = df_stats['AST'] / df_stats['G']\n",
    "df_stats['STL_avg'] = df_stats['STL'] / df_stats['G']\n",
    "df_stats['RB_avg'] = df_stats['RB'] / df_stats['G']\n",
    "df_stats['BLK_avg'] = df_stats['BLK'] / df_stats['G']\n",
    "df_stats['TOV_avg'] = df_stats['TOV'] / df_stats['G']\n",
    "df_stats['Fan_PTS'] = fan_pts(df_stats['PTS'], df_stats['RB'], df_stats['AST']\n",
    "                              , df_stats['BLK'], df_stats['STL'], df_stats['TOV'])\n",
    "df_stats['Fan_PTS_avg'] = df_stats['Fan_PTS'] / df_stats['G']\n",
    "df_stats[\"3Pfract\"] = df_stats[\"3PA\"]/df_stats.FGA"
   ]
  },
  {
   "cell_type": "code",
   "execution_count": 16,
   "metadata": {},
   "outputs": [],
   "source": [
    "palette = ['aliceblue','antiquewhite','aqua','aquamarine','azure','beige','bisque','black',\n",
    "           'blanchedalmond','blue','blueviolet','brown','burlywood','cadetblue','chartreuse',\n",
    "           'chocolate','coral','cornflowerblue','cornsilk','crimson','cyan','darkblue','darkcyan',\n",
    "           'darkgoldenrod','darkgray','darkgreen','darkkhaki','darkmagenta','darkolivegreen',\n",
    "           'darkorange','darkorchid','darkred','darksalmon','darkseagreen','darkslateblue',\n",
    "           'darkslategray','darkturquoise','darkviolet','red']\n"
   ]
  },
  {
   "cell_type": "code",
   "execution_count": 18,
   "metadata": {},
   "outputs": [
    {
     "name": "stderr",
     "output_type": "stream",
     "text": [
      "/Users/ashvets/anaconda3/envs/special_topics/lib/python3.6/site-packages/bokeh/models/mappers.py:82: UserWarning: Palette length does not match number of factors. ['NOP', 'CHO'] will be assigned to `nan_color` gray\n",
      "  warnings.warn(\"Palette length does not match number of factors. %s will be assigned to `nan_color` %s\" % (extra_factors, self.nan_color))\n"
     ]
    }
   ],
   "source": [
    "color_mapper = CategoricalColorMapper(factors=df_stats['Tm'].unique().tolist(),\n",
    "                                      palette=palette)\n",
    "\n",
    "p1 = figure(x_axis_label='3 Points Attempted', y_axis_label='3 Points Made', tools='box_select')\n",
    "p2 = figure(x_axis_label='2 Points Attempted', y_axis_label='2 Points Made', tools='box_select')"
   ]
  },
  {
   "cell_type": "code",
   "execution_count": 20,
   "metadata": {},
   "outputs": [],
   "source": [
    "slider = Slider(title='Year', start=1990, end=2017, step=1, value=2006)\n",
    "menu = Select(options=df_stats['Tm'].unique().tolist(), value='GSW', title='Team')"
   ]
  },
  {
   "cell_type": "code",
   "execution_count": 22,
   "metadata": {},
   "outputs": [],
   "source": [
    "source = ColumnDataSource(data={'x_3p': df_stats['3PA'], 'y_3p': df_stats['3P'],\n",
    "                                'Tm': df_stats['Tm'], 'x_2p': df_stats['2PA'],\n",
    "                                'y_2p': df_stats['2P'], 'Year': df_stats['Year'],\n",
    "                                'Player': df_stats['Player']})"
   ]
  },
  {
   "cell_type": "code",
   "execution_count": 23,
   "metadata": {},
   "outputs": [],
   "source": [
    "def callback(attr, old, new):\n",
    "    new_x_3p = df_stats[(df_stats['Year'] == slider.value) &\n",
    "                               (df_stats['Tm'] == menu.value)]['3PA']\n",
    "\n",
    "    new_y_3p = df_stats[(df_stats['Year'] == slider.value) &\n",
    "                               (df_stats['Tm'] == menu.value)]['3P']\n",
    "\n",
    "    new_tm = seasons_1990_on[(df_stats['Year'] == slider.value) &\n",
    "                             (df_stats['Tm'] == menu.value)]['Tm']\n",
    "\n",
    "    new_x_2p = seasons_1990_on[(df_stats['Year'] == slider.value) &\n",
    "                               (df_stats['Tm'] == menu.value)]['2PA']\n",
    "\n",
    "    new_y_2p = seasons_1990_on[(df_stats['Year'] == slider.value) &\n",
    "                               (df_stats['Tm'] == menu.value)]['2P']\n",
    "\n",
    "    new_year = seasons_1990_on[(df_stats['Year'] == slider.value) &\n",
    "                               (df_stats['Tm'] == menu.value)]['Year']\n",
    "\n",
    "    new_player = seasons_1990_on[(df_stats['Year'] == slider.value) &\n",
    "                                 (df_stats['Tm'] == menu.value)]['Player']\n",
    "\n",
    "    source.data = {'x_3p': new_x_3p, 'y_3p': new_y_3p, 'Tm': new_tm, 'x_2p': new_x_2p,\n",
    "                   'y_2p': new_y_2p, 'Year': new_year, 'Player': new_player}\n",
    "\n",
    "\n",
    "slider.on_change('value', callback)\n",
    "menu.on_change('value', callback)"
   ]
  },
  {
   "cell_type": "code",
   "execution_count": 24,
   "metadata": {},
   "outputs": [],
   "source": [
    "p1.circle('x_3p', 'y_3p', source=source, alpha=0.8, nonselection_alpha=0.1,\n",
    "          color=dict(field='Tm', transform=color_mapper), legend='Tm')\n",
    "\n",
    "p2.circle('x_2p', 'y_2p', source=source, alpha=0.8, nonselection_alpha=0.1,\n",
    "          color=dict(field='Tm', transform=color_mapper), legend='Tm')\n",
    "\n",
    "p1.legend.location = 'bottom_right'\n",
    "p2.legend.location = 'bottom_right'"
   ]
  },
  {
   "cell_type": "code",
   "execution_count": 26,
   "metadata": {},
   "outputs": [],
   "source": [
    "hover1 = HoverTool(tooltips=[('Player', '@Player')])\n",
    "p1.add_tools(hover1)\n",
    "hover2 = HoverTool(tooltips=[('Player', '@Player')])\n",
    "p2.add_tools(hover2)\n",
    "\n",
    "column1 = column(widgetbox(menu), widgetbox(slider))\n",
    "layout = row(column1, p1, p2)\n",
    "\n",
    "curdoc().add_root(layout)"
   ]
  },
  {
   "cell_type": "code",
   "execution_count": 27,
   "metadata": {},
   "outputs": [
    {
     "ename": "NameError",
     "evalue": "name 'output_notebook' is not defined",
     "output_type": "error",
     "traceback": [
      "\u001b[0;31m---------------------------------------------------------------------------\u001b[0m",
      "\u001b[0;31mNameError\u001b[0m                                 Traceback (most recent call last)",
      "\u001b[0;32m<ipython-input-27-62699fbe3374>\u001b[0m in \u001b[0;36m<module>\u001b[0;34m()\u001b[0m\n\u001b[0;32m----> 1\u001b[0;31m \u001b[0moutput_notebook\u001b[0m\u001b[0;34m(\u001b[0m\u001b[0mlayout\u001b[0m\u001b[0;34m)\u001b[0m\u001b[0;34m\u001b[0m\u001b[0m\n\u001b[0m",
      "\u001b[0;31mNameError\u001b[0m: name 'output_notebook' is not defined"
     ]
    }
   ],
   "source": [
    "output_notebook(layout)"
   ]
  },
  {
   "cell_type": "code",
   "execution_count": null,
   "metadata": {},
   "outputs": [],
   "source": []
  }
 ],
 "metadata": {
  "kernelspec": {
   "display_name": "Python 3",
   "language": "python",
   "name": "python3"
  },
  "language_info": {
   "codemirror_mode": {
    "name": "ipython",
    "version": 3
   },
   "file_extension": ".py",
   "mimetype": "text/x-python",
   "name": "python",
   "nbconvert_exporter": "python",
   "pygments_lexer": "ipython3",
   "version": "3.6.3"
  }
 },
 "nbformat": 4,
 "nbformat_minor": 2
}
